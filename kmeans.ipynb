{
 "cells": [
  {
   "cell_type": "code",
   "execution_count": 124,
   "id": "initial_id",
   "metadata": {
    "ExecuteTime": {
     "end_time": "2023-10-20T23:03:00.713260Z",
     "start_time": "2023-10-20T23:03:00.454209Z"
    },
    "collapsed": true
   },
   "outputs": [],
   "source": [
    "import numpy as np\n",
    "import matplotlib.pyplot as plt\n",
    "from sklearn import preprocessing\n"
   ]
  },
  {
   "cell_type": "markdown",
   "id": "eb3f21d8",
   "metadata": {},
   "source": [
    "# K-Means"
   ]
  },
  {
   "cell_type": "code",
   "execution_count": 113,
   "id": "b9ab2309",
   "metadata": {},
   "outputs": [],
   "source": [
    "class KMeans:\n",
    "    def __init__(\n",
    "        self,\n",
    "        n_clusters: int,\n",
    "        max_iter: int = 300,\n",
    "        random_state: int | None = None,\n",
    "        verbose: bool = False,\n",
    "    ) -> None:\n",
    "        self.n_clusters: int = n_clusters\n",
    "        self.max_iter: int = max_iter\n",
    "        self.random_state: int | None = random_state\n",
    "        self.verbose: bool = verbose\n",
    "\n",
    "    @staticmethod\n",
    "    def euclidean_distance(\n",
    "        x1: np.ndarray,\n",
    "        x2: np.ndarray,\n",
    "        squared: bool = False,\n",
    "    ) -> float:\n",
    "        res = ((x1 - x2) ** 2).sum(axis=1)\n",
    "        if not squared:\n",
    "            np.sqrt(res, res)\n",
    "        return res\n",
    "\n",
    "    def fit(self, X: np.ndarray) -> tuple[np.ndarray, np.ndarray]:\n",
    "        n_samples = X.shape[0]\n",
    "        # Random generator\n",
    "        random_state = np.random.RandomState(self.random_state)\n",
    "\n",
    "        # Initial centroids using K-Means++\n",
    "        centers: np.ndarray = self._init_centroids(\n",
    "            X,\n",
    "            random_state=random_state,\n",
    "        )\n",
    "\n",
    "        if self.verbose:\n",
    "            print(\"Initialization complete\")\n",
    "\n",
    "        centers_new: np.ndarray = np.zeros_like(centers)\n",
    "        # Labels array initialized with -1\n",
    "        labels: np.ndarray = np.full(n_samples, -1, dtype=np.int32)\n",
    "        labels_old: np.ndarray = labels.copy()\n",
    "\n",
    "        for i in range(self.max_iter):\n",
    "            # Compute distances between each point and each centroid\n",
    "            distances: np.ndarray = np.array(\n",
    "                [self.euclidean_distance(x, centers) for x in X]\n",
    "            )\n",
    "\n",
    "            # Assign each point to the closest centroid\n",
    "            labels: np.ndarray = np.argmin(distances, axis=1)\n",
    "\n",
    "            # Compute new centroids as the mean of the points assigned to each centroid\n",
    "            centers_new = np.array(\n",
    "                [X[labels == i].mean(axis=0) for i in range(self.n_clusters)]\n",
    "            )\n",
    "\n",
    "            # Swap old and new centroids\n",
    "            centers, centers_new = centers_new, centers\n",
    "\n",
    "            if np.array_equal(labels, labels_old):\n",
    "                if self.verbose:\n",
    "                    print(f\"Converged at iteration {i}: strict convergence\")\n",
    "                break\n",
    "            labels_old = labels.copy()\n",
    "        self.cluster_centers_ = centers\n",
    "        self.labels_ = labels\n",
    "        return self\n",
    "\n",
    "    def _init_centroids(\n",
    "        self,\n",
    "        X: np.ndarray,\n",
    "        random_state: np.random.RandomState,\n",
    "    ) -> np.ndarray:\n",
    "        n_samples, n_features = X.shape\n",
    "        centers = np.empty((self.n_clusters, n_features), dtype=X.dtype)\n",
    "\n",
    "        center_id = random_state.choice(n_samples)\n",
    "        centers[0] = X[center_id]\n",
    "\n",
    "        for i in range(1, self.n_clusters):\n",
    "            # It makes more sense to use the squared distance here since we are using it \n",
    "            # to compute probabilities and not to compute the actual distance between points.\n",
    "            # By squaring the distance we increase the probability of points that are\n",
    "            # further away from the closest centroid.\n",
    "            min_distances = np.array(\n",
    "                [\n",
    "                    np.min(self.euclidean_distance(x, centers[:i], squared=True))\n",
    "                    for x in X\n",
    "                ]\n",
    "            )\n",
    "\n",
    "            center_id = random_state.choice(\n",
    "                n_samples, p=min_distances / min_distances.sum()\n",
    "            )\n",
    "\n",
    "            centers[i] = X[center_id]\n",
    "        return centers\n",
    "\n",
    "    def predict(self, X: np.ndarray) -> np.ndarray:\n",
    "        distances = np.array(\n",
    "            [self.euclidean_distance(x, self.cluster_centers_) for x in X]\n",
    "        )\n",
    "        return np.argmin(distances, axis=1)"
   ]
  },
  {
   "cell_type": "markdown",
   "id": "79407d7f",
   "metadata": {},
   "source": [
    "# Dataset"
   ]
  },
  {
   "cell_type": "code",
   "execution_count": 117,
   "id": "adc6106b",
   "metadata": {},
   "outputs": [],
   "source": [
    "import pandas as pd\n",
    "from sklearn.decomposition import PCA"
   ]
  },
  {
   "cell_type": "code",
   "execution_count": 118,
   "id": "82c42b9c",
   "metadata": {},
   "outputs": [],
   "source": [
    "def get_data() -> pd.DataFrame:\n",
    "    df: pd.DataFrame = pd.read_csv(\"db.csv\")\n",
    "    return df\n",
    "\n",
    "\n",
    "def reduce_data(n_components: int, data: pd.DataFrame) -> np.ndarray:\n",
    "    pca = PCA(n_components=n_components)\n",
    "    return pca.fit_transform(data)"
   ]
  },
  {
   "cell_type": "code",
   "execution_count": 126,
   "id": "a8799a59",
   "metadata": {},
   "outputs": [
    {
     "name": "stdout",
     "output_type": "stream",
     "text": [
      "[4 4 4 4 4 4 4 4 4 4 4 4 4 4 4 4 3 3 3 3 3 3 3 3 3 3 3 3 3 3 3 3 3 3 3 3 3\n",
      " 3 3 3 3 3 3 3 3 3 0 0 0 0 0 0 0 0 0 0 0 0 0 0 0 0 0 0 0 0 0 0 0 0 0 0 0 4\n",
      " 4 4 4 4 4 4 4 4 4 4 4 4 1 1 1 1 1 1 1 1 1 1 1 1 1 1 1 1 1 1 1 1 1 1 1 1 1\n",
      " 1 1 1 1 1 1 1 1 1 4 4 4 5 5 5 4 4 4 5 5 5 4 4 0 3 5 5 5 5 5 5 0 0 5 5 4 4\n",
      " 2 2 2 2 2 2 2 2 2 2 2 2 2 2 2 5 5 5 5 5 5 5 5 5 5 5 5 0 0 0 0 0 0 0 0 6 6\n",
      " 6 6 6 6]\n"
     ]
    }
   ],
   "source": [
    "\n",
    "data = get_data()\n",
    "X = data.iloc[:, 1:]\n",
    "labels = data.iloc[:, 0]\n",
    "X = reduce_data(66, X)\n",
    "\n",
    "l = preprocessing.LabelEncoder().fit_transform(labels)\n",
    "print(l)"
   ]
  },
  {
   "cell_type": "code",
   "execution_count": 127,
   "id": "226bd46b",
   "metadata": {},
   "outputs": [
    {
     "data": {
      "text/plain": [
       "<matplotlib.collections.PathCollection at 0x29d509450>"
      ]
     },
     "execution_count": 127,
     "metadata": {},
     "output_type": "execute_result"
    },
    {
     "data": {
      "image/png": "[encoded data removed]",
      "text/plain": [
       "<Figure size 640x480 with 1 Axes>"
      ]
     },
     "metadata": {},
     "output_type": "display_data"
    }
   ],
   "source": [
    "plt.scatter(X[:, 0], X[:, 1], c=l, s=10)"
   ]
  },
  {
   "cell_type": "code",
   "execution_count": 140,
   "id": "4cc5f1a6",
   "metadata": {},
   "outputs": [
    {
     "name": "stdout",
     "output_type": "stream",
     "text": [
      "Initialization complete\n",
      "Converged at iteration 8: strict convergence\n",
      "[2 6 5 5 2 5 5 5 2 5 2 5 2 5 2 5 3 0 4 0 4 3 3 0 3 3 0 0 0 0 0 3 0 0 0 0 0\n",
      " 0 3 0 0 0 3 3 0 0 0 0 0 0 0 0 0 0 0 0 0 0 0 0 0 0 0 0 0 0 0 0 0 0 0 0 0 5\n",
      " 6 2 5 2 2 2 2 5 2 2 2 2 6 6 6 6 6 6 6 6 6 6 6 6 6 2 6 6 6 6 6 2 6 6 6 6 2\n",
      " 6 6 6 6 6 6 6 6 2 2 2 5 1 1 1 2 2 2 1 1 1 5 5 3 0 1 1 1 1 1 1 4 4 1 1 5 5\n",
      " 2 2 6 2 2 2 2 2 2 2 2 2 2 2 2 1 1 1 1 1 1 1 1 1 1 1 1 3 3 3 3 3 0 0 0 6 6\n",
      " 6 6 2 2]\n"
     ]
    }
   ],
   "source": [
    "k = KMeans(n_clusters=7, verbose=True)\n",
    "k.fit(X)\n",
    "print(k.labels_)\n",
    "# plt.scatter(X[:, 0], X[:, 1], c=k.labels_, s=10)\n",
    "# plt.scatter(k.cluster_centers_[:, 0], k.cluster_centers_[:, 1], c=\"red\", marker=\"x\")"
   ]
  }
 ],
 "metadata": {
  "kernelspec": {
   "display_name": "Python 3",
   "language": "python",
   "name": "python3"
  },
  "language_info": {
   "codemirror_mode": {
    "name": "ipython",
    "version": 3
   },
   "file_extension": ".py",
   "mimetype": "text/x-python",
   "name": "python",
   "nbconvert_exporter": "python",
   "pygments_lexer": "ipython3",
   "version": "3.11.6"
  }
 },
 "nbformat": 4,
 "nbformat_minor": 5
}
